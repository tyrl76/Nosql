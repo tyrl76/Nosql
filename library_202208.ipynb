{
 "cells": [
  {
   "cell_type": "markdown",
   "metadata": {},
   "source": [
    "## 1. 파이썬 라이브러리"
   ]
  },
  {
   "cell_type": "markdown",
   "metadata": {},
   "source": [
    "### 라이브러리: 미리 만들어놓은 함수 집합, 이름이 있음"
   ]
  },
  {
   "cell_type": "markdown",
   "metadata": {},
   "source": [
    "### 예제: 지수승 구하기 (예: $3^3$) - 함수로 만들어보기"
   ]
  },
  {
   "cell_type": "code",
   "execution_count": null,
   "metadata": {},
   "outputs": [],
   "source": [
    "3 ** 3"
   ]
  },
  {
   "cell_type": "code",
   "execution_count": null,
   "metadata": {},
   "outputs": [],
   "source": []
  },
  {
   "cell_type": "markdown",
   "metadata": {},
   "source": [
    "### 임의의 숫자와 지수를 입력으로 받아서, 지수승 구하기"
   ]
  },
  {
   "cell_type": "code",
   "execution_count": null,
   "metadata": {},
   "outputs": [],
   "source": [
    "def exponential(digit, exponent):\n",
    "    value = digit ** exponent\n",
    "    return value"
   ]
  },
  {
   "cell_type": "code",
   "execution_count": null,
   "metadata": {
    "scrolled": false
   },
   "outputs": [],
   "source": [
    "print (exponential(3, 3))"
   ]
  },
  {
   "cell_type": "markdown",
   "metadata": {},
   "source": [
    "### 수학함수들을 모아놓은 라이브러리가 있음 - math 라이브러리\n",
    "* math 라이브러리에 pow 라는 이름으로 지수승을 계산해주는 함수를 구현해놓았음"
   ]
  },
  {
   "cell_type": "code",
   "execution_count": null,
   "metadata": {},
   "outputs": [],
   "source": [
    "import math\n",
    "num = math.pow(3, 3)\n",
    "print (num)"
   ]
  },
  {
   "cell_type": "markdown",
   "metadata": {},
   "source": [
    "* math 라이브러리에 factorial 라는 이름으로 펙토리얼 (예: 5! 는 1 x 2 x 3 x 4 x 5)을 계산해주는 함수를 구현해놓았음"
   ]
  },
  {
   "cell_type": "code",
   "execution_count": null,
   "metadata": {},
   "outputs": [],
   "source": [
    "math.factorial(5)"
   ]
  },
  {
   "cell_type": "markdown",
   "metadata": {},
   "source": [
    "### 얼마나 많은 함수들이 math 라이브러리에 있을까?\n",
    "* https://docs.python.org/3/library/math.html"
   ]
  },
  {
   "cell_type": "markdown",
   "metadata": {},
   "source": [
    "### 라이브러리 사용하기 - 기본 사용법1\n",
    "\n",
    "```\n",
    "import 라이브러리명\n",
    "\n",
    "라이브러리명.함수명()\n",
    "```"
   ]
  },
  {
   "cell_type": "markdown",
   "metadata": {},
   "source": [
    "### 예: math 라이브러리에 있는 factorial() 함수 사용하기\n",
    "\n",
    "```python\n",
    "import math\n",
    "\n",
    "math.factorial(5)\n",
    "```\n",
    "\n",
    "* 해당 라이브러리에 있는 함수를 사용하기 위해서는 해당 라이브러리명.함수명으로 써야 함\n",
    "  - math.factorial(5): math 라이브러리에 있는 factorial() 함수를 사용"
   ]
  },
  {
   "cell_type": "code",
   "execution_count": null,
   "metadata": {},
   "outputs": [],
   "source": [
    "import math\n",
    "\n",
    "print (math.factorial(5))"
   ]
  },
  {
   "cell_type": "markdown",
   "metadata": {},
   "source": [
    "### 라이브러리 사용하기 - 기본 사용법2\n",
    "* 라이브러리에서 일부 함수만 라이브러리 \n",
    "함수만을 불러 사용하기 위해서는 다음과 같이 from 라이브러명 import 함수명 으로 사용\n",
    "* 마치 해당 함수를 현재 코드 상단에 선언한 것과 마찬가지가 됨\n",
    "  - 라이브러리명.함수명 으로 쓰지 않고 함수명만 쓰면 됨"
   ]
  },
  {
   "cell_type": "code",
   "execution_count": null,
   "metadata": {},
   "outputs": [],
   "source": [
    "# math 라이브러리에 있는 함수 중, sqrt, factorial 함수만 import\n",
    "from math import sqrt, factorial  \n",
    "\n",
    "num = sqrt(5)\n",
    "print (num)\n",
    "num2 = factorial(5)\n",
    "print (num2)"
   ]
  },
  {
   "cell_type": "code",
   "execution_count": null,
   "metadata": {},
   "outputs": [],
   "source": [
    "# math 라이브러리에 있는 함수 중, sqrt, factorial 함수만 import\n",
    "from math import sqrt, factorial\n",
    "\n",
    "num = sqrt(5)\n",
    "num2 = factorial(5)\n",
    "\n",
    "print (num2)"
   ]
  },
  {
   "cell_type": "markdown",
   "metadata": {},
   "source": [
    "### 다음과 같이 쓰면, 해당 라이브러리에 있는 모든 함수를 라이브러리명 없이 쓸 수 있음"
   ]
  },
  {
   "cell_type": "code",
   "execution_count": null,
   "metadata": {},
   "outputs": [],
   "source": [
    "# math 라이브러리에 있는 모든 함수를 import\n",
    "from math import *\n",
    "num = sqrt(5) + factorial(3) \n",
    "print (num)"
   ]
  },
  {
   "cell_type": "code",
   "execution_count": null,
   "metadata": {},
   "outputs": [],
   "source": [
    "from math import *\n",
    "num = sqrt(5) + factorial(3) \n",
    "print (num)"
   ]
  },
  {
   "cell_type": "markdown",
   "metadata": {},
   "source": [
    "### 라이브러리에 있는 함수명이 길거나 해서 다른 이름으로 쓰고 싶으면 다음과 같이 작성"
   ]
  },
  {
   "cell_type": "code",
   "execution_count": null,
   "metadata": {},
   "outputs": [],
   "source": [
    "import math as d\n",
    "num = d.factorial(5)\n",
    "print (num)"
   ]
  },
  {
   "cell_type": "code",
   "execution_count": null,
   "metadata": {},
   "outputs": [],
   "source": [
    "# factorial() 함수를 f()로 사용 가능\n",
    "from math import factorial as f\n",
    "num = f(5)\n",
    "print (num)"
   ]
  },
  {
   "cell_type": "markdown",
   "metadata": {},
   "source": [
    "### 라이브러리가 없으면! 자기 PC에서 실행이 안됨 -- 설치하면 됨\n",
    "* 터미널 (맥은 terminal 프로그램, 윈도우는 Anaconda Prompt 프로그램을 실행해서 다음과 같은 특별한 명령을 수행)\n",
    "  - pip install 라이브러리명\n"
   ]
  },
  {
   "cell_type": "markdown",
   "metadata": {},
   "source": [
    "<div class=\"alert alert-block\" style=\"border: 2px solid #E65100;background-color:#FFF3E0;padding:10px\">\n",
    "<font size=\"4em\" style=\"font-weight:bold;color:#BF360C;\">라이브러리 설치 팁 (2022.08 업데이트)</font><br><br>\n",
    "PC 환경에 따라 터미널에서 라이브러리 설치시, 터미널에서 연결되어 있는 파이썬 버전과, <Br> 주피터 노트북에서 연결되어 있는 파이썬 버전이 다를 수도 있습니다.<br>\n",
    "이 때에는 주피터 노트북에서, 다음과 같이 CODE 셀을 하나 만들어서, <br> 다음과 같이 ! (느낌표) 를 넣으신 후, !pip install 라이브러리명 하시면 <br> 현재 주피터 노트북에 연결되어 있는 파이썬 버전에 맞게끔 라이브러리 설치도 가능합니다.\n",
    "</div>"
   ]
  }
 ],
 "metadata": {
  "kernelspec": {
   "display_name": "Python 3 (ipykernel)",
   "language": "python",
   "name": "python3"
  },
  "language_info": {
   "codemirror_mode": {
    "name": "ipython",
    "version": 3
   },
   "file_extension": ".py",
   "mimetype": "text/x-python",
   "name": "python",
   "nbconvert_exporter": "python",
   "pygments_lexer": "ipython3",
   "version": "3.9.12"
  },
  "nbTranslate": {
   "displayLangs": [
    "*"
   ],
   "hotkey": "alt-t",
   "langInMainMenu": true,
   "sourceLang": "en",
   "targetLang": "fr",
   "useGoogleTranslate": true
  }
 },
 "nbformat": 4,
 "nbformat_minor": 1
}
